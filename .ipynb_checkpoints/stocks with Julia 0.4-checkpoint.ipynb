{
 "cells": [
  {
   "cell_type": "code",
   "execution_count": 1,
   "metadata": {
    "collapsed": false
   },
   "outputs": [
    {
     "data": {
      "text/plain": [
       "100x6 TimeSeries.TimeArray{Float64,2,Void} 2015-06-26 to 2015-11-16\n",
       "\n",
       "             Open      High      Low       Close     Volume          Adjusted Close  \n",
       "2015-06-26 | 127.67    127.99    126.51    126.75    44066800        125.641         \n",
       "2015-06-29 | 125.46    126.47    124.48    124.53    49161400        123.4405        \n",
       "2015-06-30 | 125.57    126.12    124.86    125.43    44370700        124.3326        \n",
       "2015-07-01 | 126.9     126.94    125.99    126.6     30238800        125.4924        \n",
       "⋮\n",
       "2015-11-11 | 116.37    117.42    115.21    116.11    45218000        116.11          \n",
       "2015-11-12 | 116.26    116.82    115.65    115.72    32262600        115.72          \n",
       "2015-11-13 | 115.2     115.57    112.27    112.34    45164100        112.34          \n",
       "2015-11-16 | 111.38    114.24    111.0     114.18    37651000        114.18          \n"
      ]
     },
     "execution_count": 1,
     "metadata": {},
     "output_type": "execute_result"
    }
   ],
   "source": [
    "using TimeSeries\n",
    "using Quandl\n",
    "\n",
    "data = quandl(\"YAHOO/AAPL\")"
   ]
  },
  {
   "cell_type": "code",
   "execution_count": null,
   "metadata": {
    "collapsed": true
   },
   "outputs": [],
   "source": []
  }
 ],
 "metadata": {
  "kernelspec": {
   "display_name": "Julia 0.4.0",
   "language": "julia",
   "name": "julia-0.4"
  },
  "language_info": {
   "file_extension": ".jl",
   "mimetype": "application/julia",
   "name": "julia",
   "version": "0.4.0"
  }
 },
 "nbformat": 4,
 "nbformat_minor": 0
}
